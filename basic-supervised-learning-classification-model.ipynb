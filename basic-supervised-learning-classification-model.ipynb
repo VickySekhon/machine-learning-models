{
  "nbformat": 4,
  "nbformat_minor": 0,
  "metadata": {
    "colab": {
      "provenance": [],
      "gpuType": "T4",
      "authorship_tag": "ABX9TyPg/CZC4lauT4BuVXKIK9U/"
    },
    "kernelspec": {
      "name": "python3",
      "display_name": "Python 3"
    },
    "language_info": {
      "name": "python"
    },
    "accelerator": "GPU"
  },
  "cells": [
    {
      "cell_type": "code",
      "execution_count": 1,
      "metadata": {
        "id": "Eeb2GthaWbEf"
      },
      "outputs": [],
      "source": [
        "import torch\n",
        "import torch.nn as nn\n",
        "import torch.optim as optim"
      ]
    },
    {
      "cell_type": "code",
      "source": [
        "# --- Step 1: Create a Simple Dataset ---\n",
        "# For demonstration, we'll use a very simple dataset.\n",
        "# Each sample has one feature, and the target is 1 (cat) or 0 (not cat).\n",
        "# Imagine these features are already extracted from images.\n",
        "\n",
        "# Example inputs (features) and corresponding labels:\n",
        "# (In real scenarios, these could be vectors/matrices of features)\n",
        "x_train = torch.tensor([[2.0], [3.0], [4.0], [5.0]])\n",
        "y_train = torch.tensor([[1.0], [1.0], [0.0], [0.0]])"
      ],
      "metadata": {
        "id": "qOOU9-taWpOo"
      },
      "execution_count": 2,
      "outputs": []
    },
    {
      "cell_type": "code",
      "source": [
        "# --- Step 2: Define a Simple Neural Network Model ---\n",
        "# Here we define a model with a single linear layer followed by a sigmoid activation.\n",
        "# This mimics: z = w * x + b, followed by y_hat = sigmoid(z)\n",
        "class SimpleNet(nn.Module):\n",
        "    def __init__(self):\n",
        "        super(SimpleNet, self).__init__()\n",
        "        # One input feature to one output neuron\n",
        "        self.linear = nn.Linear(1, 1)\n",
        "        self.sigmoid = nn.Sigmoid()\n",
        "\n",
        "    def forward(self, x):\n",
        "        z = self.linear(x)    # Compute weighted sum (z = w*x + b)\n",
        "        y_hat = self.sigmoid(z)  # Apply sigmoid to get a value between 0 and 1\n",
        "        return y_hat"
      ],
      "metadata": {
        "id": "wwQaiKkAWstX"
      },
      "execution_count": 3,
      "outputs": []
    },
    {
      "cell_type": "code",
      "source": [
        "# Instantiate the model\n",
        "model = SimpleNet()"
      ],
      "metadata": {
        "id": "IFH3hAHHWwIH"
      },
      "execution_count": 4,
      "outputs": []
    },
    {
      "cell_type": "code",
      "source": [
        "# --- Step 3: Define the Loss Function and Optimizer ---\n",
        "# Using Binary Cross-Entropy Loss (BCELoss) because it's suitable for binary classification.\n",
        "criterion = nn.BCELoss()\n",
        "# Using Stochastic Gradient Descent (SGD) as the optimizer with a learning rate of 0.1.\n",
        "optimizer = optim.SGD(model.parameters(), lr=0.1)"
      ],
      "metadata": {
        "id": "p2KETkkgWy2X"
      },
      "execution_count": 5,
      "outputs": []
    },
    {
      "cell_type": "code",
      "source": [
        "# --- Step 4: Training Loop ---\n",
        "num_epochs = 3000  # Number of times the model will see the full dataset\n",
        "\n",
        "for epoch in range(num_epochs):\n",
        "    # Forward Pass: Compute the predicted outputs by passing the inputs to the model\n",
        "    outputs = model(x_train)\n",
        "    # Calculate the loss between the predicted outputs and the true labels\n",
        "    loss = criterion(outputs, y_train)\n",
        "\n",
        "    # Backpropagation: Zero the gradients, compute gradients, and update weights\n",
        "    optimizer.zero_grad()   # Clear the old gradients from the last step\n",
        "    loss.backward()         # Compute gradients (backpropagation)\n",
        "    optimizer.step()        # Update weights using the computed gradients\n",
        "\n",
        "    # Print loss every 100 epochs for monitoring\n",
        "    if (epoch + 1) % 100 == 0:\n",
        "        print(f'Epoch [{epoch+1}/{num_epochs}], Loss: {loss.item():.4f}')\n",
        "\n",
        "print(\"Training complete.\")\n"
      ],
      "metadata": {
        "colab": {
          "base_uri": "https://localhost:8080/"
        },
        "id": "SEf1bRQ-W3m2",
        "outputId": "15e26a66-baad-4cc2-a018-f50c81bf656b"
      },
      "execution_count": 16,
      "outputs": [
        {
          "output_type": "stream",
          "name": "stdout",
          "text": [
            "Epoch [100/3000], Loss: 0.1393\n",
            "Epoch [200/3000], Loss: 0.1353\n",
            "Epoch [300/3000], Loss: 0.1316\n",
            "Epoch [400/3000], Loss: 0.1282\n",
            "Epoch [500/3000], Loss: 0.1249\n",
            "Epoch [600/3000], Loss: 0.1219\n",
            "Epoch [700/3000], Loss: 0.1190\n",
            "Epoch [800/3000], Loss: 0.1162\n",
            "Epoch [900/3000], Loss: 0.1136\n",
            "Epoch [1000/3000], Loss: 0.1112\n",
            "Epoch [1100/3000], Loss: 0.1088\n",
            "Epoch [1200/3000], Loss: 0.1066\n",
            "Epoch [1300/3000], Loss: 0.1045\n",
            "Epoch [1400/3000], Loss: 0.1024\n",
            "Epoch [1500/3000], Loss: 0.1005\n",
            "Epoch [1600/3000], Loss: 0.0986\n",
            "Epoch [1700/3000], Loss: 0.0968\n",
            "Epoch [1800/3000], Loss: 0.0950\n",
            "Epoch [1900/3000], Loss: 0.0934\n",
            "Epoch [2000/3000], Loss: 0.0918\n",
            "Epoch [2100/3000], Loss: 0.0902\n",
            "Epoch [2200/3000], Loss: 0.0888\n",
            "Epoch [2300/3000], Loss: 0.0873\n",
            "Epoch [2400/3000], Loss: 0.0859\n",
            "Epoch [2500/3000], Loss: 0.0846\n",
            "Epoch [2600/3000], Loss: 0.0833\n",
            "Epoch [2700/3000], Loss: 0.0820\n",
            "Epoch [2800/3000], Loss: 0.0808\n",
            "Epoch [2900/3000], Loss: 0.0796\n",
            "Epoch [3000/3000], Loss: 0.0785\n",
            "Training complete.\n"
          ]
        }
      ]
    },
    {
      "cell_type": "code",
      "source": [
        "# --- Step 5: Testing the Model ---\n",
        "# Let's test the model on a new input (feature)\n",
        "test_input = torch.tensor([[3.5]])\n",
        "predicted = model(test_input)\n",
        "print(f\"Predicted confidence for input 3.5: {predicted.item():.4f}\")"
      ],
      "metadata": {
        "colab": {
          "base_uri": "https://localhost:8080/"
        },
        "id": "uVEmO1tMW-YD",
        "outputId": "a2054b29-6b66-402f-fada-4deebd5fa771"
      },
      "execution_count": 18,
      "outputs": [
        {
          "output_type": "stream",
          "name": "stdout",
          "text": [
            "Predicted confidence for input 3.5: 0.4593\n"
          ]
        }
      ]
    }
  ]
}